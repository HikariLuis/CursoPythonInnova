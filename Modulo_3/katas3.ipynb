{
 "cells": [
  {
   "cell_type": "code",
   "execution_count": 62,
   "metadata": {},
   "outputs": [
    {
     "name": "stdout",
     "output_type": "stream",
     "text": [
      "Usted esta a punto de hacer la muricion!\n"
     ]
    }
   ],
   "source": [
    " velocidad_asteroide = 49\n",
    " if velocidad_asteroide > 25:\n",
    "        print(\"Usted esta a punto de hacer la muricion!\")\n",
    " else:\n",
    "         print(\"Hoy vivira un dia mas\")"
   ]
  },
  {
   "cell_type": "code",
   "execution_count": 63,
   "metadata": {},
   "outputs": [
    {
     "name": "stdout",
     "output_type": "stream",
     "text": [
      "Nada que mirar aqui, sigan con su dia\n"
     ]
    }
   ],
   "source": [
    "velocidad_asteroide = 19\n",
    "if velocidad_asteroide > 20:\n",
    "    print(\"Mira arriba hay una estela de luz en ell cielo\")\n",
    "elif velocidad_asteroide == 20:\n",
    "    print(\"Mira arriba hay una estela de luz en ell cielo\")\n",
    "else:\n",
    "    print(\"Nada que mirar aqui, sigan con su dia\")\n",
    "\n",
    "\n"
   ]
  },
  {
   "cell_type": "code",
   "execution_count": 66,
   "metadata": {},
   "outputs": [
    {
     "name": "stdout",
     "output_type": "stream",
     "text": [
      "Pasa tus ultimos momentos con tu familia\n"
     ]
    }
   ],
   "source": [
    "velocidad_asteroide = 49\n",
    "tamano_asteroide = 100\n",
    "if velocidad_asteroide > 25 and tamano_asteroide > 25:\n",
    "    print(\"Pasa tus ultimos momentos con tu familia\")\n",
    "elif velocidad_asteroide <= 25:\n",
    "    print(\"Hay una estela de luz en el cielo\")\n",
    "else:\n",
    "    print(\"Nada en el cielo\")"
   ]
  }
 ],
 "metadata": {
  "interpreter": {
   "hash": "c79a653b9f907637c5cbf2adeacf9381bef477068bc931554396bee7ab0aa93f"
  },
  "kernelspec": {
   "display_name": "Python 3.10.2 64-bit",
   "language": "python",
   "name": "python3"
  },
  "language_info": {
   "codemirror_mode": {
    "name": "ipython",
    "version": 3
   },
   "file_extension": ".py",
   "mimetype": "text/x-python",
   "name": "python",
   "nbconvert_exporter": "python",
   "pygments_lexer": "ipython3",
   "version": "3.10.2"
  },
  "orig_nbformat": 4
 },
 "nbformat": 4,
 "nbformat_minor": 2
}
